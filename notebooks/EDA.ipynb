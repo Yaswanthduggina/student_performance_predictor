{
 "cells": [
  {
   "cell_type": "code",
   "execution_count": 3,
   "id": "cc6bbcc7",
   "metadata": {},
   "outputs": [
    {
     "ename": "ModuleNotFoundError",
     "evalue": "No module named 'pandas'",
     "output_type": "error",
     "traceback": [
      "\u001b[31m---------------------------------------------------------------------------\u001b[39m",
      "\u001b[31mModuleNotFoundError\u001b[39m                       Traceback (most recent call last)",
      "\u001b[36mCell\u001b[39m\u001b[36m \u001b[39m\u001b[32mIn[3]\u001b[39m\u001b[32m, line 1\u001b[39m\n\u001b[32m----> \u001b[39m\u001b[32m1\u001b[39m \u001b[38;5;28;01mimport\u001b[39;00m\u001b[38;5;250m \u001b[39m\u001b[34;01mpandas\u001b[39;00m\u001b[38;5;250m \u001b[39m\u001b[38;5;28;01mas\u001b[39;00m\u001b[38;5;250m \u001b[39m\u001b[34;01mpd\u001b[39;00m\n\u001b[32m      2\u001b[39m \u001b[38;5;28;01mimport\u001b[39;00m\u001b[38;5;250m \u001b[39m\u001b[34;01mnumpy\u001b[39;00m\u001b[38;5;250m \u001b[39m\u001b[38;5;28;01mas\u001b[39;00m\u001b[38;5;250m \u001b[39m\u001b[34;01mnp\u001b[39;00m\n\u001b[32m      3\u001b[39m \u001b[38;5;28;01mimport\u001b[39;00m\u001b[38;5;250m \u001b[39m\u001b[34;01mseaborn\u001b[39;00m\u001b[38;5;250m \u001b[39m\u001b[38;5;28;01mas\u001b[39;00m\u001b[38;5;250m \u001b[39m\u001b[34;01msns\u001b[39;00m\n",
      "\u001b[31mModuleNotFoundError\u001b[39m: No module named 'pandas'"
     ]
    }
   ],
   "source": [
    "import pandas as pd\n",
    "import numpy as np\n",
    "import seaborn as sns\n",
    "import matplotlib.pyplot as plt\n",
    "\n",
    "# Set plot style\n",
    "sns.set(style=\"whitegrid\")\n",
    "\n",
    "# Load data\n",
    "df = pd.read_csv('../data/student_data.csv')\n",
    "\n",
    "# Show first few rows\n",
    "print(\" First 5 rows:\")\n",
    "display(df.head())\n",
    "\n",
    "# Dataset shape\n",
    "print(f\"\\n Dataset shape: {df.shape}\")\n",
    "\n",
    "# Data types and nulls\n",
    "print(\"\\n Info:\")\n",
    "df.info()\n",
    "\n",
    "# Null value count\n",
    "print(\"\\n Missing values:\")\n",
    "print(df.isnull().sum())\n",
    "\n",
    "# Handle missing values (optional: drop or fill)\n",
    "df.dropna(inplace=True)  # You can replace with df.fillna(method='ffill') if needed\n",
    "\n",
    "# Describe numeric columns\n",
    "print(\"\\n Statistics:\")\n",
    "display(df.describe())\n",
    "\n",
    "# Correlation heatmap\n",
    "plt.figure(figsize=(12, 8))\n",
    "sns.heatmap(df.corr(numeric_only=True), annot=True, cmap=\"coolwarm\", fmt=\".2f\")\n",
    "plt.title(\" Correlation Heatmap\")\n",
    "plt.show()\n",
    "\n",
    "# Create pass/fail label (Target)\n",
    "df['pass_fail'] = df['G3'].apply(lambda x: 1 if x >= 10 else 0)\n",
    "\n",
    "# Plot target distribution\n",
    "sns.countplot(x='pass_fail', data=df, palette='Set2')\n",
    "plt.title(\" Pass/Fail Distribution\")\n",
    "plt.xlabel(\"Target (0 = Fail, 1 = Pass)\")\n",
    "plt.ylabel(\"Count\")\n",
    "plt.show()\n",
    "\n",
    "# Class balance ratio\n",
    "print(\"\\n Class Balance:\")\n",
    "print(df['pass_fail'].value_counts(normalize=True))\n",
    "\n",
    "# Visualize numeric feature distributions\n",
    "numeric_cols = df.select_dtypes(include=np.number).columns.tolist()\n",
    "df[numeric_cols].hist(figsize=(15, 10), bins=20, color='skyblue', edgecolor='black')\n",
    "plt.suptitle(\" Feature Distributions\", fontsize=16)\n",
    "plt.show()\n",
    "\n",
    "# Pairplot for selected features\n",
    "selected_features = ['G1', 'G2', 'absences', 'failures']\n",
    "sns.pairplot(df, vars=selected_features, hue='pass_fail', palette='husl')\n",
    "plt.suptitle(\" Pairplot of Selected Features\", y=1.02)\n",
    "plt.show()\n",
    "\n",
    "# Optional: Encode categorical variables\n",
    "df_encoded = pd.get_dummies(df, drop_first=True)\n",
    "\n",
    "# Final dataset shape\n",
    "print(f\"\\n Final dataset shape after encoding: {df_encoded.shape}\")"
   ]
  }
 ],
 "metadata": {
  "kernelspec": {
   "display_name": ".venv",
   "language": "python",
   "name": "python3"
  },
  "language_info": {
   "codemirror_mode": {
    "name": "ipython",
    "version": 3
   },
   "file_extension": ".py",
   "mimetype": "text/x-python",
   "name": "python",
   "nbconvert_exporter": "python",
   "pygments_lexer": "ipython3",
   "version": "3.13.2"
  }
 },
 "nbformat": 4,
 "nbformat_minor": 5
}
