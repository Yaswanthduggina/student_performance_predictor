{
 "cells": [
  {
   "cell_type": "code",
   "execution_count": null,
   "id": "cc6bbcc7",
   "metadata": {
    "vscode": {
     "languageId": "plaintext"
    }
   },
   "outputs": [],
   "source": [
    "# EDA.ipynb\n",
    "\n",
    "import pandas as pd\n",
    "import numpy as np\n",
    "import seaborn as sns\n",
    "import matplotlib.pyplot as plt\n",
    "\n",
    "# Load data\n",
    "df = pd.read_csv('../data/student_data.csv')\n",
    "\n",
    "# Show first few rows\n",
    "print(\"First 5 rows:\")\n",
    "display(df.head())\n",
    "\n",
    "# Dataset shape\n",
    "print(f\"Dataset shape: {df.shape}\")\n",
    "\n",
    "# Data types and nulls\n",
    "print(\"\\nInfo:\")\n",
    "df.info()\n",
    "\n",
    "# Null value count\n",
    "print(\"\\nMissing values:\")\n",
    "print(df.isnull().sum())\n",
    "\n",
    "# Describe numeric columns\n",
    "print(\"\\nStatistics:\")\n",
    "display(df.describe())\n",
    "\n",
    "# Correlation heatmap\n",
    "plt.figure(figsize=(12, 8))\n",
    "sns.heatmap(df.corr(numeric_only=True), annot=True, cmap=\"coolwarm\")\n",
    "plt.title(\"Correlation Heatmap\")\n",
    "plt.show()\n",
    "\n",
    "# Create pass/fail label (Target)\n",
    "df['pass_fail'] = df['G3'].apply(lambda x: 1 if x >= 10 else 0)\n",
    "\n",
    "# Plot target distribution\n",
    "sns.countplot(x='pass_fail', data=df)\n",
    "plt.title(\"Pass/Fail Distribution\")\n",
    "plt.xlabel(\"Target (0 = Fail, 1 = Pass)\")\n",
    "plt.show()\n"
   ]
  }
 ],
 "metadata": {
  "language_info": {
   "name": "python"
  }
 },
 "nbformat": 4,
 "nbformat_minor": 5
}
